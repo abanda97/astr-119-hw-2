{
 "cells": [
  {
   "cell_type": "code",
   "execution_count": null,
   "metadata": {},
   "outputs": [],
   "source": [
    "%matplotlib inline\n",
    "import numpy as np\n",
    "import matplotlib.pyplot as plt"
   ]
  },
  {
   "cell_type": "code",
   "execution_count": null,
   "metadata": {},
   "outputs": [],
   "source": [
    "x = np.linspace(0, 2*np.pi, 1000)"
   ]
  },
  {
   "cell_type": "code",
   "execution_count": null,
   "metadata": {},
   "outputs": [],
   "source": [
    "y = 5.5 * np.cos(2*x) + 5.5\n",
    "z = 0.02 * np.exp(x)\n",
    "w = 0.25 * x**2 + 0.1* np.sin(10*x)\n",
    "\n",
    "fig = plt.figure(figsize=(6,6))\n",
    "\n",
    "#The functions that each line on the graph represents\n",
    "plt.plot(x, y, label=r'$y(x) = \\5.5cos(2*x) + 5.5$')\n",
    "plt.plot(x, z, label=r'$y(x) = \\0.02 * exp(x)$')\n",
    "plt.plot(x, w, label=r'$y(x) = \\0.25 * x^2 + 0.1sin(10*x)$')\n",
    "\n",
    "\n",
    "#X and Y axes labels\n",
    "plt.xlabel('Time Spent in ASTR-119')\n",
    "plt.ylabel('Measure of Pure Awesomeness')\n",
    "\n",
    "#X and Y ranges\n",
    "plt.xlim([0,2*np.pi])\n",
    "plt.ylim([-1,10.])"
   ]
  },
  {
   "cell_type": "code",
   "execution_count": null,
   "metadata": {},
   "outputs": [],
   "source": []
  }
 ],
 "metadata": {
  "kernelspec": {
   "display_name": "Python 3",
   "language": "python",
   "name": "python3"
  },
  "language_info": {
   "codemirror_mode": {
    "name": "ipython",
    "version": 3
   },
   "file_extension": ".py",
   "mimetype": "text/x-python",
   "name": "python",
   "nbconvert_exporter": "python",
   "pygments_lexer": "ipython3",
   "version": "3.6.5"
  }
 },
 "nbformat": 4,
 "nbformat_minor": 2
}
